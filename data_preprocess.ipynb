{
 "cells": [
  {
   "cell_type": "markdown",
   "metadata": {},
   "source": [
    "## Welcome to RL based Recommendation System\n",
    "\n",
    "### This is part 1: Data Collection & Preprocessing (Amazon Reviews)\n",
    "In this part we will:\n",
    "1. Obtain a publicly available Amazon review dataset\n",
    "2. Load, clean, transform, and split the data\n",
    "3. Save the preprocessed data in a pickle file"
   ]
  },
  {
   "cell_type": "code",
   "execution_count": 49,
   "metadata": {},
   "outputs": [],
   "source": [
    "#importing the libraries\n",
    "import pandas as pd\n",
    "import matplotlib.pyplot as plt\n",
    "import pickle\n"
   ]
  },
  {
   "cell_type": "markdown",
   "metadata": {
    "slideshow": {
     "slide_type": "notes"
    }
   },
   "source": [
    "### Step 0: Download the dataset\n",
    "> http://snap.stanford.edu/data/amazon/productGraph/categoryFiles/reviews_Electronics_5.json.gz\n",
    "<p>Save the dataset and copy its path in the `dataset_path` variable.</p>"
   ]
  },
  {
   "cell_type": "markdown",
   "metadata": {},
   "source": [
    "### Step 1: Load the data into a Pandas DataFrame\n",
    "<p>The file in JSON lines format (each line is a separate JSON object) and gzipped</p>"
   ]
  },
  {
   "cell_type": "code",
   "execution_count": 6,
   "metadata": {},
   "outputs": [
    {
     "name": "stdout",
     "output_type": "stream",
     "text": [
      "Loaded 1689188 reviews\n"
     ]
    }
   ],
   "source": [
    "dataset_path = \"/Ankit\\Reposetories\\RL_Based_Reccomendation_System\\\\reviews_Electronics_5.json.gz\"\n",
    "df = pd.read_json(dataset_path, lines=True, compression=\"gzip\")\n",
    "print(f\"Loaded {len(df)} reviews\")"
   ]
  },
  {
   "cell_type": "markdown",
   "metadata": {},
   "source": [
    "<p>Lets see what fields we have in our data</p>"
   ]
  },
  {
   "cell_type": "code",
   "execution_count": 7,
   "metadata": {},
   "outputs": [
    {
     "data": {
      "text/html": [
       "<div>\n",
       "<style scoped>\n",
       "    .dataframe tbody tr th:only-of-type {\n",
       "        vertical-align: middle;\n",
       "    }\n",
       "\n",
       "    .dataframe tbody tr th {\n",
       "        vertical-align: top;\n",
       "    }\n",
       "\n",
       "    .dataframe thead th {\n",
       "        text-align: right;\n",
       "    }\n",
       "</style>\n",
       "<table border=\"1\" class=\"dataframe\">\n",
       "  <thead>\n",
       "    <tr style=\"text-align: right;\">\n",
       "      <th></th>\n",
       "      <th>reviewerID</th>\n",
       "      <th>asin</th>\n",
       "      <th>reviewerName</th>\n",
       "      <th>helpful</th>\n",
       "      <th>reviewText</th>\n",
       "      <th>overall</th>\n",
       "      <th>summary</th>\n",
       "      <th>unixReviewTime</th>\n",
       "      <th>reviewTime</th>\n",
       "    </tr>\n",
       "  </thead>\n",
       "  <tbody>\n",
       "    <tr>\n",
       "      <th>0</th>\n",
       "      <td>AO94DHGC771SJ</td>\n",
       "      <td>0528881469</td>\n",
       "      <td>amazdnu</td>\n",
       "      <td>[0, 0]</td>\n",
       "      <td>We got this GPS for my husband who is an (OTR)...</td>\n",
       "      <td>5</td>\n",
       "      <td>Gotta have GPS!</td>\n",
       "      <td>1370131200</td>\n",
       "      <td>06 2, 2013</td>\n",
       "    </tr>\n",
       "    <tr>\n",
       "      <th>1</th>\n",
       "      <td>AMO214LNFCEI4</td>\n",
       "      <td>0528881469</td>\n",
       "      <td>Amazon Customer</td>\n",
       "      <td>[12, 15]</td>\n",
       "      <td>I'm a professional OTR truck driver, and I bou...</td>\n",
       "      <td>1</td>\n",
       "      <td>Very Disappointed</td>\n",
       "      <td>1290643200</td>\n",
       "      <td>11 25, 2010</td>\n",
       "    </tr>\n",
       "    <tr>\n",
       "      <th>2</th>\n",
       "      <td>A3N7T0DY83Y4IG</td>\n",
       "      <td>0528881469</td>\n",
       "      <td>C. A. Freeman</td>\n",
       "      <td>[43, 45]</td>\n",
       "      <td>Well, what can I say.  I've had this unit in m...</td>\n",
       "      <td>3</td>\n",
       "      <td>1st impression</td>\n",
       "      <td>1283990400</td>\n",
       "      <td>09 9, 2010</td>\n",
       "    </tr>\n",
       "    <tr>\n",
       "      <th>3</th>\n",
       "      <td>A1H8PY3QHMQQA0</td>\n",
       "      <td>0528881469</td>\n",
       "      <td>Dave M. Shaw \"mack dave\"</td>\n",
       "      <td>[9, 10]</td>\n",
       "      <td>Not going to write a long review, even thought...</td>\n",
       "      <td>2</td>\n",
       "      <td>Great grafics, POOR GPS</td>\n",
       "      <td>1290556800</td>\n",
       "      <td>11 24, 2010</td>\n",
       "    </tr>\n",
       "    <tr>\n",
       "      <th>4</th>\n",
       "      <td>A24EV6RXELQZ63</td>\n",
       "      <td>0528881469</td>\n",
       "      <td>Wayne Smith</td>\n",
       "      <td>[0, 0]</td>\n",
       "      <td>I've had mine for a year and here's what we go...</td>\n",
       "      <td>1</td>\n",
       "      <td>Major issues, only excuses for support</td>\n",
       "      <td>1317254400</td>\n",
       "      <td>09 29, 2011</td>\n",
       "    </tr>\n",
       "  </tbody>\n",
       "</table>\n",
       "</div>"
      ],
      "text/plain": [
       "       reviewerID        asin              reviewerName   helpful  \\\n",
       "0   AO94DHGC771SJ  0528881469                   amazdnu    [0, 0]   \n",
       "1   AMO214LNFCEI4  0528881469           Amazon Customer  [12, 15]   \n",
       "2  A3N7T0DY83Y4IG  0528881469             C. A. Freeman  [43, 45]   \n",
       "3  A1H8PY3QHMQQA0  0528881469  Dave M. Shaw \"mack dave\"   [9, 10]   \n",
       "4  A24EV6RXELQZ63  0528881469               Wayne Smith    [0, 0]   \n",
       "\n",
       "                                          reviewText  overall  \\\n",
       "0  We got this GPS for my husband who is an (OTR)...        5   \n",
       "1  I'm a professional OTR truck driver, and I bou...        1   \n",
       "2  Well, what can I say.  I've had this unit in m...        3   \n",
       "3  Not going to write a long review, even thought...        2   \n",
       "4  I've had mine for a year and here's what we go...        1   \n",
       "\n",
       "                                  summary  unixReviewTime   reviewTime  \n",
       "0                         Gotta have GPS!      1370131200   06 2, 2013  \n",
       "1                       Very Disappointed      1290643200  11 25, 2010  \n",
       "2                          1st impression      1283990400   09 9, 2010  \n",
       "3                 Great grafics, POOR GPS      1290556800  11 24, 2010  \n",
       "4  Major issues, only excuses for support      1317254400  09 29, 2011  "
      ]
     },
     "execution_count": 7,
     "metadata": {},
     "output_type": "execute_result"
    }
   ],
   "source": [
    "df.head(5)"
   ]
  },
  {
   "cell_type": "markdown",
   "metadata": {},
   "source": [
    "### Step 2: Feature selection\n",
    "<p>We dont need all the columns in our data for a reccomendation sysyem.We will only select the following:</p>\n",
    "\n",
    "1. reviewerID (or userID)\n",
    "2. asis (or productID)\n",
    "3. overall (rating)\n",
    "4. unixReviewTime (timestamp of the review): This is useful for preserving sequence of actions.\n",
    "\n",
    "<p> In this project we are focusing on rating based reccomendations, avoiding complexity of natural language processing of reviews </p>"
   ]
  },
  {
   "cell_type": "code",
   "execution_count": 9,
   "metadata": {},
   "outputs": [
    {
     "data": {
      "text/html": [
       "<div>\n",
       "<style scoped>\n",
       "    .dataframe tbody tr th:only-of-type {\n",
       "        vertical-align: middle;\n",
       "    }\n",
       "\n",
       "    .dataframe tbody tr th {\n",
       "        vertical-align: top;\n",
       "    }\n",
       "\n",
       "    .dataframe thead th {\n",
       "        text-align: right;\n",
       "    }\n",
       "</style>\n",
       "<table border=\"1\" class=\"dataframe\">\n",
       "  <thead>\n",
       "    <tr style=\"text-align: right;\">\n",
       "      <th></th>\n",
       "      <th>reviewerID</th>\n",
       "      <th>asin</th>\n",
       "      <th>overall</th>\n",
       "      <th>unixReviewTime</th>\n",
       "    </tr>\n",
       "  </thead>\n",
       "  <tbody>\n",
       "    <tr>\n",
       "      <th>0</th>\n",
       "      <td>AO94DHGC771SJ</td>\n",
       "      <td>0528881469</td>\n",
       "      <td>5</td>\n",
       "      <td>1370131200</td>\n",
       "    </tr>\n",
       "    <tr>\n",
       "      <th>1</th>\n",
       "      <td>AMO214LNFCEI4</td>\n",
       "      <td>0528881469</td>\n",
       "      <td>1</td>\n",
       "      <td>1290643200</td>\n",
       "    </tr>\n",
       "    <tr>\n",
       "      <th>2</th>\n",
       "      <td>A3N7T0DY83Y4IG</td>\n",
       "      <td>0528881469</td>\n",
       "      <td>3</td>\n",
       "      <td>1283990400</td>\n",
       "    </tr>\n",
       "    <tr>\n",
       "      <th>3</th>\n",
       "      <td>A1H8PY3QHMQQA0</td>\n",
       "      <td>0528881469</td>\n",
       "      <td>2</td>\n",
       "      <td>1290556800</td>\n",
       "    </tr>\n",
       "    <tr>\n",
       "      <th>4</th>\n",
       "      <td>A24EV6RXELQZ63</td>\n",
       "      <td>0528881469</td>\n",
       "      <td>1</td>\n",
       "      <td>1317254400</td>\n",
       "    </tr>\n",
       "  </tbody>\n",
       "</table>\n",
       "</div>"
      ],
      "text/plain": [
       "       reviewerID        asin  overall  unixReviewTime\n",
       "0   AO94DHGC771SJ  0528881469        5      1370131200\n",
       "1   AMO214LNFCEI4  0528881469        1      1290643200\n",
       "2  A3N7T0DY83Y4IG  0528881469        3      1283990400\n",
       "3  A1H8PY3QHMQQA0  0528881469        2      1290556800\n",
       "4  A24EV6RXELQZ63  0528881469        1      1317254400"
      ]
     },
     "execution_count": 9,
     "metadata": {},
     "output_type": "execute_result"
    }
   ],
   "source": [
    "df = df[['reviewerID', 'asin', 'overall', 'unixReviewTime']]\n",
    "df.head(5)"
   ]
  },
  {
   "cell_type": "markdown",
   "metadata": {},
   "source": [
    "### Step 3: Data cleaning\n",
    "<p>We check the data for missing or NaN values, and remove any rows with missing values. This ensures data integrety and reliablity</p>"
   ]
  },
  {
   "cell_type": "code",
   "execution_count": 12,
   "metadata": {},
   "outputs": [
    {
     "name": "stdout",
     "output_type": "stream",
     "text": [
      "Missing values per column:\n",
      " reviewerID        0\n",
      "asin              0\n",
      "overall           0\n",
      "unixReviewTime    0\n",
      "dtype: int64\n",
      "\n",
      "After dropping missing values, 1689188 reviews remain\n"
     ]
    }
   ],
   "source": [
    "# We check for missing values\n",
    "print(\"Missing values per column:\\n\", df.isnull().sum())\n",
    "\n",
    "#Remove any columns with missing values\n",
    "df = df.dropna()\n",
    "print(f\"\\nAfter dropping missing values, {len(df)} reviews remain\")"
   ]
  },
  {
   "cell_type": "markdown",
   "metadata": {},
   "source": [
    "<p>We see that no columns were dropped, which is a good thing. We have good data :)</p>"
   ]
  },
  {
   "cell_type": "markdown",
   "metadata": {},
   "source": [
    "### Step 4: Map User and Item IDs to Integer Indices\n",
    "<p>We can see that reviewerID and asin are string based. We will need to convert them to integer indices for better performance and avoid any complication with the data type during the training process.</p>\n",
    "How would we do that?\n",
    "\n",
    "1. Create dictionaries mapping unique reviewerID and asin values to integers using list comprehension and enumerate\n",
    "2. Add new columns to the DataFrame using these mappings."
   ]
  },
  {
   "cell_type": "code",
   "execution_count": 13,
   "metadata": {},
   "outputs": [
    {
     "name": "stdout",
     "output_type": "stream",
     "text": [
      "Number of unique users: 192403\n",
      "Number of unique items: 63001\n"
     ]
    }
   ],
   "source": [
    "# Create mappings\n",
    "user_to_idx = {user: idx for idx, user in enumerate(df['reviewerID'].unique())}\n",
    "item_to_idx = {item: idx for idx, item in enumerate(df['asin'].unique())}\n",
    "\n",
    "# Add integer indices to the dataframe\n",
    "df['user_idx'] = df['reviewerID'].map(user_to_idx)\n",
    "df['item_idx'] = df['asin'].map(item_to_idx)\n",
    "\n",
    "print(f\"Number of unique users: {len(user_to_idx)}\")\n",
    "print(f\"Number of unique items: {len(item_to_idx)}\")"
   ]
  },
  {
   "cell_type": "code",
   "execution_count": 14,
   "metadata": {},
   "outputs": [
    {
     "data": {
      "text/html": [
       "<div>\n",
       "<style scoped>\n",
       "    .dataframe tbody tr th:only-of-type {\n",
       "        vertical-align: middle;\n",
       "    }\n",
       "\n",
       "    .dataframe tbody tr th {\n",
       "        vertical-align: top;\n",
       "    }\n",
       "\n",
       "    .dataframe thead th {\n",
       "        text-align: right;\n",
       "    }\n",
       "</style>\n",
       "<table border=\"1\" class=\"dataframe\">\n",
       "  <thead>\n",
       "    <tr style=\"text-align: right;\">\n",
       "      <th></th>\n",
       "      <th>reviewerID</th>\n",
       "      <th>asin</th>\n",
       "      <th>overall</th>\n",
       "      <th>unixReviewTime</th>\n",
       "      <th>user_idx</th>\n",
       "      <th>item_idx</th>\n",
       "    </tr>\n",
       "  </thead>\n",
       "  <tbody>\n",
       "    <tr>\n",
       "      <th>0</th>\n",
       "      <td>AO94DHGC771SJ</td>\n",
       "      <td>0528881469</td>\n",
       "      <td>5</td>\n",
       "      <td>1370131200</td>\n",
       "      <td>0</td>\n",
       "      <td>0</td>\n",
       "    </tr>\n",
       "    <tr>\n",
       "      <th>1</th>\n",
       "      <td>AMO214LNFCEI4</td>\n",
       "      <td>0528881469</td>\n",
       "      <td>1</td>\n",
       "      <td>1290643200</td>\n",
       "      <td>1</td>\n",
       "      <td>0</td>\n",
       "    </tr>\n",
       "    <tr>\n",
       "      <th>2</th>\n",
       "      <td>A3N7T0DY83Y4IG</td>\n",
       "      <td>0528881469</td>\n",
       "      <td>3</td>\n",
       "      <td>1283990400</td>\n",
       "      <td>2</td>\n",
       "      <td>0</td>\n",
       "    </tr>\n",
       "    <tr>\n",
       "      <th>3</th>\n",
       "      <td>A1H8PY3QHMQQA0</td>\n",
       "      <td>0528881469</td>\n",
       "      <td>2</td>\n",
       "      <td>1290556800</td>\n",
       "      <td>3</td>\n",
       "      <td>0</td>\n",
       "    </tr>\n",
       "    <tr>\n",
       "      <th>4</th>\n",
       "      <td>A24EV6RXELQZ63</td>\n",
       "      <td>0528881469</td>\n",
       "      <td>1</td>\n",
       "      <td>1317254400</td>\n",
       "      <td>4</td>\n",
       "      <td>0</td>\n",
       "    </tr>\n",
       "  </tbody>\n",
       "</table>\n",
       "</div>"
      ],
      "text/plain": [
       "       reviewerID        asin  overall  unixReviewTime  user_idx  item_idx\n",
       "0   AO94DHGC771SJ  0528881469        5      1370131200         0         0\n",
       "1   AMO214LNFCEI4  0528881469        1      1290643200         1         0\n",
       "2  A3N7T0DY83Y4IG  0528881469        3      1283990400         2         0\n",
       "3  A1H8PY3QHMQQA0  0528881469        2      1290556800         3         0\n",
       "4  A24EV6RXELQZ63  0528881469        1      1317254400         4         0"
      ]
     },
     "execution_count": 14,
     "metadata": {},
     "output_type": "execute_result"
    }
   ],
   "source": [
    "df.head(5)"
   ]
  },
  {
   "cell_type": "code",
   "execution_count": 15,
   "metadata": {},
   "outputs": [
    {
     "data": {
      "text/html": [
       "<div>\n",
       "<style scoped>\n",
       "    .dataframe tbody tr th:only-of-type {\n",
       "        vertical-align: middle;\n",
       "    }\n",
       "\n",
       "    .dataframe tbody tr th {\n",
       "        vertical-align: top;\n",
       "    }\n",
       "\n",
       "    .dataframe thead th {\n",
       "        text-align: right;\n",
       "    }\n",
       "</style>\n",
       "<table border=\"1\" class=\"dataframe\">\n",
       "  <thead>\n",
       "    <tr style=\"text-align: right;\">\n",
       "      <th></th>\n",
       "      <th>reviewerID</th>\n",
       "      <th>asin</th>\n",
       "      <th>overall</th>\n",
       "      <th>unixReviewTime</th>\n",
       "      <th>user_idx</th>\n",
       "      <th>item_idx</th>\n",
       "    </tr>\n",
       "  </thead>\n",
       "  <tbody>\n",
       "    <tr>\n",
       "      <th>1689183</th>\n",
       "      <td>A34BZM6S9L7QI4</td>\n",
       "      <td>B00LGQ6HL8</td>\n",
       "      <td>5</td>\n",
       "      <td>1405555200</td>\n",
       "      <td>114990</td>\n",
       "      <td>63000</td>\n",
       "    </tr>\n",
       "    <tr>\n",
       "      <th>1689184</th>\n",
       "      <td>A1G650TTTHEAL5</td>\n",
       "      <td>B00LGQ6HL8</td>\n",
       "      <td>5</td>\n",
       "      <td>1405382400</td>\n",
       "      <td>92852</td>\n",
       "      <td>63000</td>\n",
       "    </tr>\n",
       "    <tr>\n",
       "      <th>1689185</th>\n",
       "      <td>A25C2M3QF9G7OQ</td>\n",
       "      <td>B00LGQ6HL8</td>\n",
       "      <td>5</td>\n",
       "      <td>1405555200</td>\n",
       "      <td>10163</td>\n",
       "      <td>63000</td>\n",
       "    </tr>\n",
       "    <tr>\n",
       "      <th>1689186</th>\n",
       "      <td>A1E1LEVQ9VQNK</td>\n",
       "      <td>B00LGQ6HL8</td>\n",
       "      <td>5</td>\n",
       "      <td>1405641600</td>\n",
       "      <td>36698</td>\n",
       "      <td>63000</td>\n",
       "    </tr>\n",
       "    <tr>\n",
       "      <th>1689187</th>\n",
       "      <td>A2NYK9KWFMJV4Y</td>\n",
       "      <td>B00LGQ6HL8</td>\n",
       "      <td>5</td>\n",
       "      <td>1405209600</td>\n",
       "      <td>1615</td>\n",
       "      <td>63000</td>\n",
       "    </tr>\n",
       "  </tbody>\n",
       "</table>\n",
       "</div>"
      ],
      "text/plain": [
       "             reviewerID        asin  overall  unixReviewTime  user_idx  \\\n",
       "1689183  A34BZM6S9L7QI4  B00LGQ6HL8        5      1405555200    114990   \n",
       "1689184  A1G650TTTHEAL5  B00LGQ6HL8        5      1405382400     92852   \n",
       "1689185  A25C2M3QF9G7OQ  B00LGQ6HL8        5      1405555200     10163   \n",
       "1689186   A1E1LEVQ9VQNK  B00LGQ6HL8        5      1405641600     36698   \n",
       "1689187  A2NYK9KWFMJV4Y  B00LGQ6HL8        5      1405209600      1615   \n",
       "\n",
       "         item_idx  \n",
       "1689183     63000  \n",
       "1689184     63000  \n",
       "1689185     63000  \n",
       "1689186     63000  \n",
       "1689187     63000  "
      ]
     },
     "execution_count": 15,
     "metadata": {},
     "output_type": "execute_result"
    }
   ],
   "source": [
    "df.tail(5)"
   ]
  },
  {
   "cell_type": "markdown",
   "metadata": {},
   "source": [
    "### Step 5: Sort Data by User and Timestamp\n",
    "- Reinforcement Learning requires an understanding of the sequence of user interactions over time. Sorting ensures that each user’s reviews are in chronological order.\n",
    "- It will also be easier when we need to group the data by user (for splitting)\n",
    "<p>We will be sorting the dataframe on ``user_idx`` and ``unixReviewTime``</p>"
   ]
  },
  {
   "cell_type": "code",
   "execution_count": 17,
   "metadata": {},
   "outputs": [
    {
     "name": "stdout",
     "output_type": "stream",
     "text": [
      "Data sorted by user_idx and unixReviewTime\n"
     ]
    }
   ],
   "source": [
    "df.sort_values(by=['user_idx', 'unixReviewTime'], inplace=True)\n",
    "print(\"Data sorted by user_idx and unixReviewTime\")"
   ]
  },
  {
   "cell_type": "code",
   "execution_count": 18,
   "metadata": {},
   "outputs": [
    {
     "data": {
      "text/html": [
       "<div>\n",
       "<style scoped>\n",
       "    .dataframe tbody tr th:only-of-type {\n",
       "        vertical-align: middle;\n",
       "    }\n",
       "\n",
       "    .dataframe tbody tr th {\n",
       "        vertical-align: top;\n",
       "    }\n",
       "\n",
       "    .dataframe thead th {\n",
       "        text-align: right;\n",
       "    }\n",
       "</style>\n",
       "<table border=\"1\" class=\"dataframe\">\n",
       "  <thead>\n",
       "    <tr style=\"text-align: right;\">\n",
       "      <th></th>\n",
       "      <th>reviewerID</th>\n",
       "      <th>asin</th>\n",
       "      <th>overall</th>\n",
       "      <th>unixReviewTime</th>\n",
       "      <th>user_idx</th>\n",
       "      <th>item_idx</th>\n",
       "    </tr>\n",
       "  </thead>\n",
       "  <tbody>\n",
       "    <tr>\n",
       "      <th>1450204</th>\n",
       "      <td>AO94DHGC771SJ</td>\n",
       "      <td>B0096TK6MI</td>\n",
       "      <td>4</td>\n",
       "      <td>1353456000</td>\n",
       "      <td>0</td>\n",
       "      <td>53113</td>\n",
       "    </tr>\n",
       "    <tr>\n",
       "      <th>377374</th>\n",
       "      <td>AO94DHGC771SJ</td>\n",
       "      <td>B0013G8PTS</td>\n",
       "      <td>5</td>\n",
       "      <td>1366156800</td>\n",
       "      <td>0</td>\n",
       "      <td>15267</td>\n",
       "    </tr>\n",
       "    <tr>\n",
       "      <th>856723</th>\n",
       "      <td>AO94DHGC771SJ</td>\n",
       "      <td>B003ZBZ64Q</td>\n",
       "      <td>5</td>\n",
       "      <td>1366156800</td>\n",
       "      <td>0</td>\n",
       "      <td>32410</td>\n",
       "    </tr>\n",
       "    <tr>\n",
       "      <th>0</th>\n",
       "      <td>AO94DHGC771SJ</td>\n",
       "      <td>0528881469</td>\n",
       "      <td>5</td>\n",
       "      <td>1370131200</td>\n",
       "      <td>0</td>\n",
       "      <td>0</td>\n",
       "    </tr>\n",
       "    <tr>\n",
       "      <th>535992</th>\n",
       "      <td>AO94DHGC771SJ</td>\n",
       "      <td>B001TQSFXS</td>\n",
       "      <td>5</td>\n",
       "      <td>1375920000</td>\n",
       "      <td>0</td>\n",
       "      <td>21098</td>\n",
       "    </tr>\n",
       "  </tbody>\n",
       "</table>\n",
       "</div>"
      ],
      "text/plain": [
       "            reviewerID        asin  overall  unixReviewTime  user_idx  \\\n",
       "1450204  AO94DHGC771SJ  B0096TK6MI        4      1353456000         0   \n",
       "377374   AO94DHGC771SJ  B0013G8PTS        5      1366156800         0   \n",
       "856723   AO94DHGC771SJ  B003ZBZ64Q        5      1366156800         0   \n",
       "0        AO94DHGC771SJ  0528881469        5      1370131200         0   \n",
       "535992   AO94DHGC771SJ  B001TQSFXS        5      1375920000         0   \n",
       "\n",
       "         item_idx  \n",
       "1450204     53113  \n",
       "377374      15267  \n",
       "856723      32410  \n",
       "0               0  \n",
       "535992      21098  "
      ]
     },
     "execution_count": 18,
     "metadata": {},
     "output_type": "execute_result"
    }
   ],
   "source": [
    "df.head(5)"
   ]
  },
  {
   "cell_type": "code",
   "execution_count": 19,
   "metadata": {},
   "outputs": [
    {
     "data": {
      "text/html": [
       "<div>\n",
       "<style scoped>\n",
       "    .dataframe tbody tr th:only-of-type {\n",
       "        vertical-align: middle;\n",
       "    }\n",
       "\n",
       "    .dataframe tbody tr th {\n",
       "        vertical-align: top;\n",
       "    }\n",
       "\n",
       "    .dataframe thead th {\n",
       "        text-align: right;\n",
       "    }\n",
       "</style>\n",
       "<table border=\"1\" class=\"dataframe\">\n",
       "  <thead>\n",
       "    <tr style=\"text-align: right;\">\n",
       "      <th></th>\n",
       "      <th>reviewerID</th>\n",
       "      <th>asin</th>\n",
       "      <th>overall</th>\n",
       "      <th>unixReviewTime</th>\n",
       "      <th>user_idx</th>\n",
       "      <th>item_idx</th>\n",
       "    </tr>\n",
       "  </thead>\n",
       "  <tbody>\n",
       "    <tr>\n",
       "      <th>1671048</th>\n",
       "      <td>A1FQ3HRVXA4A5B</td>\n",
       "      <td>B00GMRCAC6</td>\n",
       "      <td>5</td>\n",
       "      <td>1400630400</td>\n",
       "      <td>192402</td>\n",
       "      <td>61842</td>\n",
       "    </tr>\n",
       "    <tr>\n",
       "      <th>1665019</th>\n",
       "      <td>A1FQ3HRVXA4A5B</td>\n",
       "      <td>B00FZ5J8IA</td>\n",
       "      <td>5</td>\n",
       "      <td>1400716800</td>\n",
       "      <td>192402</td>\n",
       "      <td>61512</td>\n",
       "    </tr>\n",
       "    <tr>\n",
       "      <th>1683485</th>\n",
       "      <td>A1FQ3HRVXA4A5B</td>\n",
       "      <td>B00IFEERU2</td>\n",
       "      <td>5</td>\n",
       "      <td>1403395200</td>\n",
       "      <td>192402</td>\n",
       "      <td>62603</td>\n",
       "    </tr>\n",
       "    <tr>\n",
       "      <th>1688645</th>\n",
       "      <td>A1FQ3HRVXA4A5B</td>\n",
       "      <td>B00KC7I2GU</td>\n",
       "      <td>5</td>\n",
       "      <td>1403740800</td>\n",
       "      <td>192402</td>\n",
       "      <td>62958</td>\n",
       "    </tr>\n",
       "    <tr>\n",
       "      <th>1689051</th>\n",
       "      <td>A1FQ3HRVXA4A5B</td>\n",
       "      <td>B00KSLCU72</td>\n",
       "      <td>5</td>\n",
       "      <td>1403740800</td>\n",
       "      <td>192402</td>\n",
       "      <td>62991</td>\n",
       "    </tr>\n",
       "  </tbody>\n",
       "</table>\n",
       "</div>"
      ],
      "text/plain": [
       "             reviewerID        asin  overall  unixReviewTime  user_idx  \\\n",
       "1671048  A1FQ3HRVXA4A5B  B00GMRCAC6        5      1400630400    192402   \n",
       "1665019  A1FQ3HRVXA4A5B  B00FZ5J8IA        5      1400716800    192402   \n",
       "1683485  A1FQ3HRVXA4A5B  B00IFEERU2        5      1403395200    192402   \n",
       "1688645  A1FQ3HRVXA4A5B  B00KC7I2GU        5      1403740800    192402   \n",
       "1689051  A1FQ3HRVXA4A5B  B00KSLCU72        5      1403740800    192402   \n",
       "\n",
       "         item_idx  \n",
       "1671048     61842  \n",
       "1665019     61512  \n",
       "1683485     62603  \n",
       "1688645     62958  \n",
       "1689051     62991  "
      ]
     },
     "execution_count": 19,
     "metadata": {},
     "output_type": "execute_result"
    }
   ],
   "source": [
    "df.tail(5)"
   ]
  },
  {
   "cell_type": "markdown",
   "metadata": {},
   "source": [
    "### Step 6: Data visualisation\n",
    "- Compute the number of users, items, and interactions\n",
    "- Calculate sparsity of the user-item matrix\n",
    "- Plot histograms of ratings and interactions\n",
    "<p>This is a necessary step to get insight about our data validate that our preprocessing steps preserved the dataset’s integrity</p>"
   ]
  },
  {
   "cell_type": "code",
   "execution_count": 20,
   "metadata": {},
   "outputs": [
    {
     "name": "stdout",
     "output_type": "stream",
     "text": [
      "Users: 192403, Items: 63001, Interactions: 1689188\n",
      "Sparsity: 0.999861\n"
     ]
    }
   ],
   "source": [
    "num_users = df['user_idx'].nunique()\n",
    "num_items = df['item_idx'].nunique()\n",
    "num_interactions = len(df)\n",
    "sparsity = 1 - num_interactions / (num_users * num_items)\n",
    "\n",
    "print(f\"Users: {num_users}, Items: {num_items}, Interactions: {num_interactions}\")\n",
    "print(f\"Sparsity: {sparsity:.6f}\")"
   ]
  },
  {
   "cell_type": "code",
   "execution_count": 21,
   "metadata": {},
   "outputs": [
    {
     "data": {
      "image/png": "[encoded data removed]",
      "text/plain": [
       "<Figure size 640x480 with 1 Axes>"
      ]
     },
     "metadata": {},
     "output_type": "display_data"
    }
   ],
   "source": [
    "# Rating distribution\n",
    "plt.hist(df['overall'], bins=5, edgecolor='black')\n",
    "plt.title('Rating Distribution')\n",
    "plt.xlabel('Rating')\n",
    "plt.ylabel('Count')\n",
    "plt.show()"
   ]
  },
  {
   "cell_type": "code",
   "execution_count": 47,
   "metadata": {},
   "outputs": [
    {
     "data": {
      "image/png": "[encoded data removed]",
      "text/plain": [
       "<Figure size 640x480 with 1 Axes>"
      ]
     },
     "metadata": {},
     "output_type": "display_data"
    }
   ],
   "source": [
    "# Interactions per user\n",
    "user_interactions = df.groupby('user_idx').size()\n",
    "res = max(user_interactions, key=lambda k: user_interactions[k])\n",
    "max_users = user_interactions[res]\n",
    "plt.hist(user_interactions, range=(0, max_users+10) ,bins=100, edgecolor='black')\n",
    "\n",
    "plt.title('Interactions per User')\n",
    "plt.xlabel('Number of Interactions')\n",
    "plt.ylabel('Number of Users')\n",
    "plt.show()"
   ]
  },
  {
   "cell_type": "markdown",
   "metadata": {},
   "source": [
    "We can note that:\n",
    "1. Our data is not sparse\n",
    "2. Our data is naturally distributed, and outliers are not very evident.\n",
    "3. Most of the reviewers have posted between 1 and 20 reviews."
   ]
  },
  {
   "cell_type": "markdown",
   "metadata": {},
   "source": [
    "### Step 7: Split Data into Training and Testing Sets\n",
    "<p>We will divide the data into training and testing sets by reserving the last interaction per user for testing.<br>Using the last interaction for testing mimics real-world scenarios where the model predicts future actions based on past data,</p> \n"
   ]
  },
  {
   "cell_type": "code",
   "execution_count": 48,
   "metadata": {},
   "outputs": [
    {
     "name": "stdout",
     "output_type": "stream",
     "text": [
      "Training set size: 1496785 interactions\n",
      "Testing set size: 192403 interactions\n"
     ]
    }
   ],
   "source": [
    "# Add rank to identify the last interaction per user\n",
    "df['set'] = df.groupby('user_idx')['unixReviewTime'].rank(method='first', ascending=False).apply(lambda x: 'test' if x == 1 else 'train')\n",
    "\n",
    "# Split into train and test DataFrames (optional)\n",
    "df_train = df[df['set'] == 'train']\n",
    "df_test = df[df['set'] == 'test']\n",
    "\n",
    "print(f\"Training set size: {len(df_train)} interactions\")\n",
    "print(f\"Testing set size: {len(df_test)} interactions\")"
   ]
  },
  {
   "cell_type": "markdown",
   "metadata": {},
   "source": [
    "### Step 8: Save Preprocessed Data and Mappings\n",
    "<p>We save the preprocessed DataFrame and ID mappings for use later.</p>"
   ]
  },
  {
   "cell_type": "code",
   "execution_count": 50,
   "metadata": {},
   "outputs": [
    {
     "name": "stdout",
     "output_type": "stream",
     "text": [
      "Preprocessed data and mappings saved\n"
     ]
    }
   ],
   "source": [
    "# Save the full preprocessed DataFrame\n",
    "df.to_pickle('df_full.pkl')\n",
    "\n",
    "# Save user and item mappings\n",
    "with open('user_to_idx.pkl', 'wb') as f:\n",
    "    pickle.dump(user_to_idx, f)\n",
    "with open('item_to_idx.pkl', 'wb') as f:\n",
    "    pickle.dump(item_to_idx, f)\n",
    "\n",
    "print(\"Preprocessed data and mappings saved\")"
   ]
  },
  {
   "cell_type": "markdown",
   "metadata": {},
   "source": [
    "#### DONE\n",
    "With this, we are done with the 1st part of the project! Next part is to set up the RL Environment."
   ]
  },
  {
   "cell_type": "code",
   "execution_count": null,
   "metadata": {},
   "outputs": [],
   "source": []
  }
 ],
 "metadata": {
  "kernelspec": {
   "display_name": "Python 3 (ipykernel)",
   "language": "python",
   "name": "python3"
  }
 },
 "nbformat": 4,
 "nbformat_minor": 2
}
