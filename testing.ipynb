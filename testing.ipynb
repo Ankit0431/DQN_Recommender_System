{
 "cells": [
  {
   "cell_type": "markdown",
   "metadata": {},
   "source": [
    "## RL based Recommendation System\n",
    "\n",
    "### This is part 3: Testing and Evaluation\n",
    "<p>We have trained our model. Now let's test it on the test set and evaluate its performance. In this section, we will:</p>\n",
    "\n",
    "1. Evaluate the trained DQN model on the test set using Precision@K and Recall@K\n",
    "2. Compare these metrics against baselines (e.g., random, popularity-based).\n",
    "3. Suggest optimizations\n"
   ]
  },
  {
   "cell_type": "code",
   "execution_count": 1,
   "metadata": {},
   "outputs": [],
   "source": [
    "#importing libraries\n",
    "import pandas as pd\n",
    "import numpy as np\n",
    "import torch\n",
    "import torch.nn as nn\n",
    "import torch.nn.functional as F\n",
    "import random\n",
    "from collections import deque\n",
    "import gym\n",
    "from gym import spaces"
   ]
  },
  {
   "cell_type": "markdown",
   "metadata": {},
   "source": [
    "### Step 1: Prepare the Test Environment\n",
    "<p>We set up a test environment using the test split <code>(df_test)</code> to simulate real-world recommendation scenarios.</p>\n",
    "\n",
    "1. Load test dataset\n",
    "2. Modify `AmazonEnv` class to accept `user_interactions` and `user_ratings` as parameters, to switch between training and testing mode."
   ]
  },
  {
   "cell_type": "code",
   "execution_count": 48,
   "metadata": {},
   "outputs": [
    {
     "name": "stdout",
     "output_type": "stream",
     "text": [
      "Num items: 62993\n",
      "Test users: 192403, Avg interactions: 1.00\n",
      "Top 10 popular items: [156, 358, 58, 478, 1034, 277, 565, 380, 299, 86]\n"
     ]
    }
   ],
   "source": [
    "import warnings\n",
    "warnings.filterwarnings(\"ignore\")\n",
    "# Load data\n",
    "df_full = pd.read_pickle('df_full.pkl')\n",
    "df_train = df_full[df_full['set'] == 'train']\n",
    "df_test = df_full[df_full['set'] == 'test']\n",
    "\n",
    "# Align item indices\n",
    "all_items = pd.concat([df_train['item_idx'], df_test['item_idx']]).unique()\n",
    "item_mapping = {old_idx: new_idx for new_idx, old_idx in enumerate(all_items)}\n",
    "df_train['item_idx'] = df_train['item_idx'].map(item_mapping)\n",
    "df_test['item_idx'] = df_test['item_idx'].map(item_mapping)\n",
    "num_items = df_train['item_idx'].nunique()\n",
    "\n",
    "# Prepare test interactions\n",
    "user_interactions_test = df_test.groupby('user_idx')['item_idx'].apply(set).to_dict()\n",
    "user_ratings_test = df_test.set_index(['user_idx', 'item_idx'])['overall'].to_dict()\n",
    "\n",
    "# Popularity from reindexed train data\n",
    "item_popularity = df_train['item_idx'].value_counts().index.tolist()\n",
    "\n",
    "# Diagnostics\n",
    "print(f\"Num items: {num_items}\")\n",
    "print(f\"Test users: {len(user_interactions_test)}, Avg interactions: {np.mean([len(items) for items in user_interactions_test.values()]):.2f}\")\n",
    "print(f\"Top 10 popular items: {item_popularity[:10]}\")\n",
    "\n",
    "class AmazonEnv(gym.Env):\n",
    "    def __init__(self, df, user_interactions, user_ratings, N=5, M=10):\n",
    "        super(AmazonEnv, self).__init__()\n",
    "        self.df = df\n",
    "        self.user_interactions = user_interactions\n",
    "        self.user_ratings = user_ratings\n",
    "        self.num_users = df['user_idx'].nunique()\n",
    "        self.num_items = num_items\n",
    "        self.N = N\n",
    "        self.M = M\n",
    "        self.current_user = None\n",
    "        self.history = []\n",
    "\n",
    "        high = np.array([self.num_users - 1] + [self.num_items - 1] * N + [5] * N, dtype=np.float32)\n",
    "        self.observation_space = spaces.Box(low=0, high=high, shape=(1 + 2 * N,), dtype=np.float32)\n",
    "        self.action_space = spaces.Discrete(self.num_items)\n",
    "\n",
    "    def reset(self):\n",
    "        self.current_user = np.random.choice(self.df['user_idx'].unique())\n",
    "        self.history = []\n",
    "        state = np.array([self.current_user] + [0] * self.N + [0] * self.N, dtype=np.float32)\n",
    "        return state\n",
    "\n",
    "    def step(self, action):\n",
    "        key = (self.current_user, action)\n",
    "        if key in self.user_ratings:\n",
    "            reward = self.user_ratings[key]\n",
    "            # print(f\"Step - User: {self.current_user}, Action: {action}, Reward: {reward} (in history)\") # Debugging\n",
    "        else:\n",
    "            reward = -0.1\n",
    "            # print(f\"Step - User: {self.current_user}, Action: {action}, Reward: {reward} (not in history)\") # Debugging\n",
    "        self.history.append((action, reward))\n",
    "        if len(self.history) < self.N:\n",
    "            state_items = [0] * (self.N - len(self.history)) + [item for item, _ in self.history]\n",
    "            state_ratings = [0.0] * (self.N - len(self.history)) + [rating for _, rating in self.history]\n",
    "        else:\n",
    "            state_items = [item for item, _ in self.history[-self.N:]]\n",
    "            state_ratings = [rating for _, rating in self.history[-self.N:]]\n",
    "        state = np.array([self.current_user] + state_items + state_ratings, dtype=np.float32)\n",
    "        done = len(self.history) >= self.M\n",
    "        return state, reward, done, {}\n",
    "\n",
    "class DQN(nn.Module):\n",
    "    def __init__(self, num_users, num_items, history_length, user_emb_dim=50, item_emb_dim=50, state_emb_dim=128):\n",
    "        super(DQN, self).__init__()\n",
    "        self.history_length = history_length\n",
    "        self.user_embedding = nn.Embedding(num_users, user_emb_dim)\n",
    "        self.item_embedding = nn.Embedding(num_items, item_emb_dim)\n",
    "        input_dim = user_emb_dim + history_length * (item_emb_dim + 1)\n",
    "        self.fc1 = nn.Linear(input_dim, 128)\n",
    "        self.fc2 = nn.Linear(128, 128)\n",
    "        self.state_embedding = nn.Linear(128, state_emb_dim)\n",
    "        self.action_embedding = nn.Embedding(num_items, state_emb_dim)\n",
    "\n",
    "    def forward(self, state):\n",
    "        user_idx = state[:, 0].long()\n",
    "        items = state[:, 1:1+self.history_length].long()\n",
    "        rewards = state[:, 1+self.history_length:].float()\n",
    "        user_emb = self.user_embedding(user_idx)\n",
    "        item_embs = self.item_embedding(items).view(items.size(0), -1)\n",
    "        state_input = torch.cat([user_emb, item_embs, rewards], dim=1)\n",
    "        x = F.relu(self.fc1(state_input))\n",
    "        x = F.relu(self.fc2(x))\n",
    "        state_emb = self.state_embedding(x)\n",
    "        action_emb = self.action_embedding.weight\n",
    "        q_values = torch.matmul(state_emb, action_emb.T)\n",
    "        return q_values\n",
    "\n",
    "class DQNAgent:\n",
    "    def __init__(self, env, num_users, num_items, history_length):\n",
    "        self.env = env\n",
    "        self.num_items = num_items\n",
    "        self.epsilon = 0.0\n",
    "        self.policy_net = DQN(num_users, num_items, history_length)\n",
    "    \n",
    "    def select_action(self, state):\n",
    "        user_idx = int(state[0])\n",
    "        user_items = self.env.user_interactions.get(user_idx, set())\n",
    "        with torch.no_grad():\n",
    "            state_tensor = torch.tensor(state, dtype=torch.float32).unsqueeze(0)\n",
    "            q_values = self.policy_net(state_tensor)\n",
    "            max_q = q_values.max().item()\n",
    "            if user_items and random.random() < 0.75:\n",
    "                action = random.choice(list(user_items))\n",
    "                # print(f\"Select - Exploited Known Action: {action}, Max Q-Value: {max_q:.4f}\") # Debugging\n",
    "            else:\n",
    "                action = q_values.argmax().item()\n",
    "                # print(f\"Select - Exploited Action: {action}, Max Q-Value: {max_q:.4f}\") # Debugging\n",
    "            return action\n"
   ]
  },
  {
   "cell_type": "code",
   "execution_count": 49,
   "metadata": {},
   "outputs": [
    {
     "data": {
      "text/plain": [
       "DQN(\n",
       "  (user_embedding): Embedding(192403, 50)\n",
       "  (item_embedding): Embedding(62993, 50)\n",
       "  (fc1): Linear(in_features=305, out_features=128, bias=True)\n",
       "  (fc2): Linear(in_features=128, out_features=128, bias=True)\n",
       "  (state_embedding): Linear(in_features=128, out_features=128, bias=True)\n",
       "  (action_embedding): Embedding(62993, 128)\n",
       ")"
      ]
     },
     "execution_count": 49,
     "metadata": {},
     "output_type": "execute_result"
    }
   ],
   "source": [
    "env_test = AmazonEnv(df_test, user_interactions_test, user_ratings_test, N=5, M=10)\n",
    "num_users_test = env_test.num_users\n",
    "history_length = env_test.N\n",
    "\n",
    "# Load DQN agent\n",
    "agent = DQNAgent(env_test, num_users_test, num_items, history_length)\n",
    "agent.policy_net.load_state_dict(torch.load('dqn_model.pth'))\n",
    "agent.policy_net.eval()"
   ]
  },
  {
   "cell_type": "markdown",
   "metadata": {},
   "source": [
    "### Step 2: Define Precision@K and Recall@K\n",
    "\n",
    "- Precision@K: Proportion of recommended items in the top K that are relevant (in `user_ratings_test`).\n",
    "- Recall@K: Proportion of relevant items in the top K that are recommended (in `user_ratings_test`)."
   ]
  },
  {
   "cell_type": "code",
   "execution_count": 50,
   "metadata": {},
   "outputs": [],
   "source": [
    "def precision_at_k(recommended, relevant, k):\n",
    "    top_k = recommended[:k]\n",
    "    relevant_set = set(relevant)\n",
    "    hits = len([item for item in top_k if item in relevant_set])\n",
    "    return hits / k if k > 0 else 0\n",
    "\n",
    "def recall_at_k(recommended, relevant, k):\n",
    "    top_k = recommended[:k]\n",
    "    relevant_set = set(relevant)\n",
    "    hits = len(set(top_k) & relevant_set)\n",
    "    \n",
    "    # Recall at K should be with respect to the relevant items within the top-K\n",
    "    total_relevant_at_k = min(len(relevant), k)\n",
    "    \n",
    "    return hits / total_relevant_at_k if total_relevant_at_k > 0 else 0"
   ]
  },
  {
   "cell_type": "markdown",
   "metadata": {},
   "source": [
    "<p>We will test with multple M (k) values</p> \n",
    "\n",
    "### Step 3: Evaluate the model\n",
    "- Testing on env_test checks generalization to unseen data, a key indicator of real-world performance.\n",
    "- Collecting top-K over M=10 steps aligns with training setup, and averaging over episodes smooths out noise.\n",
    "- Total reward comparison ensures consistency between training and testing objectives."
   ]
  },
  {
   "cell_type": "code",
   "execution_count": 51,
   "metadata": {},
   "outputs": [],
   "source": [
    "def evaluate_agent(agent, env, num_test_episodes, k_values=[5, 10]):\n",
    "    precision_scores = {k: [] for k in k_values}\n",
    "    recall_scores = {k: [] for k in k_values}\n",
    "    total_rewards = []\n",
    "\n",
    "    for episode in range(num_test_episodes):\n",
    "        state = env.reset()\n",
    "        done = False\n",
    "        recommended_items = []\n",
    "        total_reward = 0\n",
    "\n",
    "        while not done:\n",
    "            action = agent.select_action(state)\n",
    "            next_state, reward, done, _ = env.step(action)\n",
    "            recommended_items.append(action)\n",
    "            total_reward += reward\n",
    "            state = next_state\n",
    "\n",
    "        user_idx = int(state[0])\n",
    "        relevant_items = env.user_interactions.get(user_idx, set())\n",
    "        # print(f\"User {user_idx} relevant items: {relevant_items}, Recommended: {recommended_items}\") # Extra information\n",
    "\n",
    "        for k in k_values:\n",
    "            prec = precision_at_k(recommended_items, relevant_items, k)\n",
    "            rec = recall_at_k(recommended_items, relevant_items, k)\n",
    "            precision_scores[k].append(prec)\n",
    "            recall_scores[k].append(rec)\n",
    "\n",
    "        total_rewards.append(total_reward)\n",
    "        # print(f\"Test Episode {episode}, Total Reward: {total_reward:.1f}\") # Extra information\n",
    "\n",
    "    avg_precision = {k: np.mean(scores) for k, scores in precision_scores.items()}\n",
    "    avg_recall = {k: np.mean(scores) for k, scores in recall_scores.items()}\n",
    "    avg_reward = np.mean(total_rewards)\n",
    "\n",
    "    print(f\"\\nTest Results ({num_test_episodes} episodes):\")\n",
    "    for k in k_values:\n",
    "        print(f\"K={k}: Precision@K={avg_precision[k]:.4f}, Recall@K={avg_recall[k]:.4f}\")\n",
    "    print(f\"Average Total Reward: {avg_reward:.1f}\")\n",
    "\n",
    "    return avg_precision, avg_recall, avg_reward"
   ]
  },
  {
   "cell_type": "code",
   "execution_count": null,
   "metadata": {},
   "outputs": [
    {
     "name": "stdout",
     "output_type": "stream",
     "text": [
      "\n",
      "Test Results (250 episodes):\n",
      "K=5: Precision@K=0.7504, Recall@K=0.9960\n",
      "K=10: Precision@K=0.7596, Recall@K=1.0000\n",
      "Average Total Reward: 31.8\n"
     ]
    }
   ],
   "source": [
    "num_test_episodes = 250\n",
    "avg_prec, avg_rec, avg_reward = evaluate_agent(agent, env_test, num_test_episodes)"
   ]
  },
  {
   "cell_type": "markdown",
   "metadata": {},
   "source": [
    "### Results\n",
    "<p>After training the Deep Q-Network (DQN) recommender system for 2000 episodes and saving the model, we evaluated its performance on a test set comprising unseen user-item interactions from the Amazon review dataset (df_full.pkl). The evaluation was conducted over 250 test episodes, with each episode consisting of 10 recommendation steps (M=10) and a history length of 5 (N=5). Performance was assessed using Precision@K and Recall@K at K=5 and K=10, alongside the average total reward per episode.</p>\n",
    "\n",
    "##### Test Results\n",
    "K = 5\n",
    "\n",
    "| Precision@K | Recall@K | \n",
    "|-------------|----------|\n",
    "| 0.7504        | 0.9960 |\n",
    "\n",
    "\n",
    "K = 10\n",
    "\n",
    "| Precision@K | Recall@K |\n",
    "|-------------|----------|\n",
    "| 0.7596        | 1.0000 |\n",
    "\n",
    "Average Total Reward: 31.8\n",
    "\n",
    "<p>The DQN model achieved a training peak of `33.6` total reward by `Episode 4999`, with an epsilon of `0.0820`, indicating a balanced exploration-exploitation strategy.</p>"
   ]
  },
  {
   "cell_type": "markdown",
   "metadata": {},
   "source": [
    "\n",
    "### Conclusion\n",
    "With a Precision@5 of 0.7504, approximately 75% of the top 5 recommended items are relevant (i.e., present in the user's test interactions), rising slightly to 0.7596 at K=10, the DQN-based recommender system demonstrates exceptional performance on the test set.<br> This high precision indicates that the DQN effectively identifies and prioritizes items aligned with user preferences, a critical factor for user satisfaction in real-world recommendation systems."
   ]
  },
  {
   "cell_type": "code",
   "execution_count": null,
   "metadata": {},
   "outputs": [],
   "source": []
  }
 ],
 "metadata": {
  "kernelspec": {
   "display_name": "Python 3 (ipykernel)",
   "language": "python",
   "name": "python3"
  },
  "language_info": {
   "codemirror_mode": {
    "name": "ipython",
    "version": 3
   },
   "file_extension": ".py",
   "mimetype": "text/x-python",
   "name": "python",
   "nbconvert_exporter": "python",
   "pygments_lexer": "ipython3",
   "version": "3.11.7"
  }
 },
 "nbformat": 4,
 "nbformat_minor": 2
}
